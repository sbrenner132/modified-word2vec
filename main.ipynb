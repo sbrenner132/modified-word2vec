{
 "cells": [
  {
   "cell_type": "markdown",
   "metadata": {},
   "source": [
    "# Modified Word2Vec"
   ]
  },
  {
   "cell_type": "markdown",
   "metadata": {},
   "source": [
    "## Data Preprocessing\n",
    "\n",
    "The following set of functions filter out unecessary lines, and process each line appropriately into a list of words. The `process_file` function uses these operations to create a nested list of words for every relevant line in a corpus and flatens the list."
   ]
  },
  {
   "cell_type": "code",
   "execution_count": null,
   "metadata": {},
   "outputs": [],
   "source": [
    "import itertools\n",
    "import string\n",
    "\n",
    "start_quote = '“'\n",
    "end_quote = '”'\n",
    "\n",
    "def filter_lines(file: str):\n",
    "  data = open(file)\n",
    "  filtered = []\n",
    "  for line in data.readlines():\n",
    "    line = line.strip()\n",
    "    if line and not line.startswith('Page') and not line.isnumeric(): # ignore blank lines and page or chapter deliniations\n",
    "      filtered.append(line) \n",
    "  return filtered\n",
    "\n",
    "def process_line(line: str):\n",
    "  words = line.split()\n",
    "  return [word.strip(start_quote).strip(end_quote).translate(str.maketrans('', '', string.punctuation)) for word in words]\n",
    "\n",
    "def process_file(file: str):\n",
    "  lines = filter_lines(file)\n",
    "  words = [process_line(line) for line in lines]\n",
    "  return list(itertools.chain(*words))"
   ]
  },
  {
   "cell_type": "markdown",
   "metadata": {},
   "source": [
    "Then, the function is run against all 7 books in the corpus."
   ]
  },
  {
   "cell_type": "code",
   "execution_count": null,
   "metadata": {},
   "outputs": [],
   "source": [
    "for i in range(7):\n",
    "  lines = process_file(f'./corpus/Book{i + 1}.txt')\n",
    "  print(len(lines))"
   ]
  }
 ],
 "metadata": {
  "kernelspec": {
   "display_name": "Python 3.9.6 64-bit",
   "language": "python",
   "name": "python3"
  },
  "language_info": {
   "codemirror_mode": {
    "name": "ipython",
    "version": 3
   },
   "file_extension": ".py",
   "mimetype": "text/x-python",
   "name": "python",
   "nbconvert_exporter": "python",
   "pygments_lexer": "ipython3",
   "version": "3.9.6"
  },
  "orig_nbformat": 4,
  "vscode": {
   "interpreter": {
    "hash": "31f2aee4e71d21fbe5cf8b01ff0e069b9275f58929596ceb00d14d90e3e16cd6"
   }
  }
 },
 "nbformat": 4,
 "nbformat_minor": 2
}
